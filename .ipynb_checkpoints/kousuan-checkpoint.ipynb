{
 "cells": [
  {
   "cell_type": "code",
   "execution_count": 1,
   "metadata": {},
   "outputs": [],
   "source": [
    "import pandas as pd"
   ]
  },
  {
   "cell_type": "code",
   "execution_count": 2,
   "metadata": {},
   "outputs": [],
   "source": [
    "import random"
   ]
  },
  {
   "cell_type": "markdown",
   "metadata": {},
   "source": [
    "## 加减"
   ]
  },
  {
   "cell_type": "markdown",
   "metadata": {},
   "source": [
    "### 退位的xx-x：-9，-8，差1，差2"
   ]
  },
  {
   "cell_type": "code",
   "execution_count": 3,
   "metadata": {},
   "outputs": [],
   "source": [
    "count = 130"
   ]
  },
  {
   "cell_type": "code",
   "execution_count": 4,
   "metadata": {},
   "outputs": [],
   "source": [
    "digit = '123456789'\n",
    "a = [random.choice(digit) for i in list(range(count))]\n",
    "b = [random.choice(digit) for i in list(range(count))]\n",
    "num1 = [a+b for a,b in zip(*[a,b])]"
   ]
  },
  {
   "cell_type": "code",
   "execution_count": 5,
   "metadata": {},
   "outputs": [],
   "source": [
    "group01 = [[n, '-','9'] for n in num1]"
   ]
  },
  {
   "cell_type": "code",
   "execution_count": 6,
   "metadata": {},
   "outputs": [],
   "source": [
    "a = [random.choice(digit) for i in list(range(count))]\n",
    "b = [random.choice(digit) for i in list(range(count))]\n",
    "group01 += [[n, '-','8'] for n in num1]"
   ]
  },
  {
   "cell_type": "code",
   "execution_count": 7,
   "metadata": {},
   "outputs": [],
   "source": [
    "digit = '1234567'\n",
    "bb = [random.choice(digit) for i in list(range(count))]\n",
    "num1 = [a+b for a,b in zip(*[a,bb])]\n",
    "group01 += [[n, '-',str(int(b)+2)] for n,b in zip(*[num1,bb])]"
   ]
  },
  {
   "cell_type": "code",
   "execution_count": 8,
   "metadata": {},
   "outputs": [],
   "source": [
    "digit = '12345678'\n",
    "bb = [random.choice(digit) for i in list(range(count))]\n",
    "num1 = [a+b for a,b in zip(*[a,bb])]\n",
    "group01 += [[n, '-',str(int(b)+1)] for n,b in zip(*[num1,bb])]"
   ]
  },
  {
   "cell_type": "markdown",
   "metadata": {},
   "source": [
    "### 退位的xx-x：-7，-6，差3，差4"
   ]
  },
  {
   "cell_type": "code",
   "execution_count": 9,
   "metadata": {},
   "outputs": [],
   "source": [
    "def minus_7(count):\n",
    "    digit = '123456789'\n",
    "    digit2 = '1234' # using trick: +3\n",
    "    # digit2 = '123456' # using tricks\n",
    "    a = [random.choice(digit) for i in list(range(count))]\n",
    "    b = [random.choice(digit2) for i in list(range(count))]\n",
    "    num1 = [a+b for a,b in zip(*[a,b])]\n",
    "    group = [[n, '-','7'] for n in num1]\n",
    "    return group"
   ]
  },
  {
   "cell_type": "code",
   "execution_count": 10,
   "metadata": {},
   "outputs": [],
   "source": [
    "def minus_6(count):\n",
    "    digit = '123456789'\n",
    "    digit2 = '123'# using trick: +4\n",
    "    # digit2 = '12345' # using tricks\n",
    "    a = [random.choice(digit) for i in list(range(count))]\n",
    "    b = [random.choice(digit2) for i in list(range(count))]\n",
    "    num1 = [a+b for a,b in zip(*[a,b])]\n",
    "    group = [[n, '-','6'] for n in num1]\n",
    "    return group"
   ]
  },
  {
   "cell_type": "code",
   "execution_count": 11,
   "metadata": {},
   "outputs": [],
   "source": [
    "def diff_3(count):\n",
    "    digit = '123456789'\n",
    "    a = [random.choice(digit) for i in list(range(count))]\n",
    "    digit2 = '1234'\n",
    "    bb = [random.choice(digit2) for i in list(range(count))]\n",
    "    num1 = [a+b for a,b in zip(*[a,bb])]\n",
    "    group = [[n, '-',str(int(b)+3)] for n,b in zip(*[num1,bb])]\n",
    "    return group"
   ]
  },
  {
   "cell_type": "code",
   "execution_count": 12,
   "metadata": {},
   "outputs": [],
   "source": [
    "def diff_4(count):\n",
    "    digit = '123456789'\n",
    "    a = [random.choice(digit) for i in list(range(count))]\n",
    "    digit2 = '123'\n",
    "    bb = [random.choice(digit2) for i in list(range(count))]\n",
    "    num1 = [a+b for a,b in zip(*[a,bb])]\n",
    "    group = [[n, '-',str(int(b)+4)] for n,b in zip(*[num1,bb])]\n",
    "    return group"
   ]
  },
  {
   "cell_type": "markdown",
   "metadata": {},
   "source": [
    "### 退位减法xx-x: all"
   ]
  },
  {
   "cell_type": "code",
   "execution_count": 13,
   "metadata": {},
   "outputs": [],
   "source": [
    "def sub_back_space_x(count):\n",
    "    digit = '123456789'\n",
    "    aa = [random.choice('123456789') for i in list(range(count))]\n",
    "    bb,cc = [], []\n",
    "    for i in list(range(count)):\n",
    "        b = random.choice('12345678')\n",
    "        bb += b\n",
    "        cc += random.choice(digit[int(b):])\n",
    "    group = [[a+b, '-', c] for a,b,c in zip(*[aa,bb,cc])]\n",
    "    return group"
   ]
  },
  {
   "cell_type": "markdown",
   "metadata": {},
   "source": [
    "### 减法 xx-x: all"
   ]
  },
  {
   "cell_type": "code",
   "execution_count": 14,
   "metadata": {},
   "outputs": [],
   "source": [
    "def sub_x(count):\n",
    "    digit = '123456789'\n",
    "    aa = [random.choice(digit) for i in list(range(count))]\n",
    "    bb = [random.choice(digit) for i in list(range(count))]\n",
    "    cc = [random.choice(digit) for i in list(range(count))]\n",
    "    group = [[a+b, '-', c] for a,b,c in zip(*[aa,bb,cc])]\n",
    "    return group"
   ]
  },
  {
   "cell_type": "markdown",
   "metadata": {},
   "source": [
    "### 加法xx+x:  all"
   ]
  },
  {
   "cell_type": "code",
   "execution_count": 15,
   "metadata": {},
   "outputs": [],
   "source": [
    "def addition_x(count):\n",
    "    digit = '123456789'\n",
    "    aa = [random.choice(digit) for i in list(range(count))]\n",
    "    bb = [random.choice(digit) for i in list(range(count))]\n",
    "    cc = [random.choice(digit) for i in list(range(count))]\n",
    "    group = [[a+b, '+', c] for a,b,c in zip(*[aa,bb,cc])]\n",
    "    return group"
   ]
  },
  {
   "cell_type": "markdown",
   "metadata": {},
   "source": [
    "### 进位加法xx+x: all"
   ]
  },
  {
   "cell_type": "code",
   "execution_count": 16,
   "metadata": {},
   "outputs": [],
   "source": [
    "def addition_carried_x(count):\n",
    "    digit = '123456789'\n",
    "    aa = [random.choice('123456789') for i in list(range(count))]\n",
    "    bb,cc = [], []\n",
    "    for i in list(range(count)):\n",
    "        b = random.choice('23456789')\n",
    "        bb += b\n",
    "        cc += random.choice(digit[10 - int(b):])\n",
    "    group = [[a+b, '+', c] for a,b,c in zip(*[aa,bb,cc])]\n",
    "    return group"
   ]
  },
  {
   "cell_type": "markdown",
   "metadata": {},
   "source": [
    "### xx+xx addition_xx"
   ]
  },
  {
   "cell_type": "code",
   "execution_count": 17,
   "metadata": {},
   "outputs": [],
   "source": [
    "def addition_xx(count):\n",
    "    digit = '123456789'\n",
    "    aa = [random.choice(digit) for i in list(range(count))]\n",
    "    bb = [random.choice(digit) for i in list(range(count))]\n",
    "    cc = [random.choice(digit) for i in list(range(count))]\n",
    "    dd = [random.choice(digit) for i in list(range(count))]\n",
    "    group = [[a+b, '+', c+d] for a,b,c,d in zip(*[aa,bb,cc,dd])]\n",
    "    return group"
   ]
  },
  {
   "cell_type": "markdown",
   "metadata": {},
   "source": [
    "### xx+x0 addition_x0"
   ]
  },
  {
   "cell_type": "code",
   "execution_count": 18,
   "metadata": {},
   "outputs": [],
   "source": [
    "def addition_x0(count):\n",
    "    group = []\n",
    "    for i in list(range(count)):\n",
    "        aa = random.randint(1,99)\n",
    "        bb = random.randint(1,9)*10\n",
    "        group.append([aa, '+', bb])\n",
    "    return group"
   ]
  },
  {
   "cell_type": "markdown",
   "metadata": {},
   "source": [
    "### xx-x0 sub_x0"
   ]
  },
  {
   "cell_type": "code",
   "execution_count": 19,
   "metadata": {},
   "outputs": [],
   "source": [
    "def sub_x0(count):\n",
    "    group = []\n",
    "    i= 1\n",
    "    while(i<count):\n",
    "        aa = random.randint(1,99)\n",
    "        bb = random.randint(1,9)*10\n",
    "        if aa >= bb:\n",
    "            group.append([aa, '-', bb])\n",
    "            i += 1        \n",
    "    return group"
   ]
  },
  {
   "cell_type": "markdown",
   "metadata": {},
   "source": [
    "### xx-xx非负  sub_xx"
   ]
  },
  {
   "cell_type": "code",
   "execution_count": 20,
   "metadata": {},
   "outputs": [],
   "source": [
    "def sub_xx(count):\n",
    "    group = []\n",
    "    for i in list(range(count)):\n",
    "        aa = random.randint(1,99)\n",
    "        bb = random.randint(1,99)\n",
    "        if aa >= bb:\n",
    "            group.append([aa, '-', bb])\n",
    "        else:\n",
    "            group.append([bb, '-', aa])\n",
    "    return group"
   ]
  },
  {
   "cell_type": "markdown",
   "metadata": {},
   "source": [
    "### 100-xx  sub_100xx"
   ]
  },
  {
   "cell_type": "code",
   "execution_count": 21,
   "metadata": {},
   "outputs": [],
   "source": [
    "def sub_100xx(count):\n",
    "    group = []\n",
    "    for i in list(range(count)):\n",
    "        aa = 100\n",
    "        bb = random.randint(1,99)\n",
    "        if aa >= bb:\n",
    "            group.append([aa, '-', bb])\n",
    "        else:\n",
    "            group.append([bb, '-', aa])\n",
    "    return group"
   ]
  },
  {
   "cell_type": "markdown",
   "metadata": {},
   "source": [
    "### xx+xx=100  add_100"
   ]
  },
  {
   "cell_type": "code",
   "execution_count": 22,
   "metadata": {},
   "outputs": [],
   "source": [
    "def add_100(count):\n",
    "    group = []\n",
    "    for i in list(range(count)):\n",
    "        aa = random.randint(11,99)\n",
    "        bb = 100 - aa\n",
    "        group.append([aa, '+', bb])\n",
    "    return group    "
   ]
  },
  {
   "cell_type": "markdown",
   "metadata": {},
   "source": [
    "## 乘"
   ]
  },
  {
   "cell_type": "code",
   "execution_count": 23,
   "metadata": {},
   "outputs": [],
   "source": [
    "def mul_single_figure(figure):\n",
    "    aa = random.randint(1,12)\n",
    "    return [aa, u'\\xd7', figure]\n",
    "    "
   ]
  },
  {
   "cell_type": "code",
   "execution_count": 24,
   "metadata": {},
   "outputs": [],
   "source": [
    "mul_single_figure(2)"
   ]
  },
  {
   "cell_type": "code",
   "execution_count": 25,
   "metadata": {},
   "outputs": [],
   "source": [
    "#  乘  u'\\xd7'  除 u'\\xf7'"
   ]
  },
  {
   "cell_type": "markdown",
   "metadata": {},
   "source": [
    "###   乘法表  mul_x"
   ]
  },
  {
   "cell_type": "code",
   "execution_count": 26,
   "metadata": {},
   "outputs": [],
   "source": [
    "def mul_x(count):\n",
    "    group = []\n",
    "    for i in list(range(count)):\n",
    "        digit = \"2352354\"\n",
    "        fig = int(random.choice(digit))\n",
    "        group.append(mul_single_figure(fig))\n",
    "    return group\n",
    "        "
   ]
  },
  {
   "cell_type": "markdown",
   "metadata": {},
   "source": [
    "## 出题"
   ]
  },
  {
   "cell_type": "code",
   "execution_count": 49,
   "metadata": {},
   "outputs": [],
   "source": [
    "def get_paper_backup(funcL, cntL, n, is_order=False):\n",
    "    groups = []\n",
    "    for i in list(range(n)):\n",
    "        group =[]\n",
    "        for f, cnt in zip(*[funcL, cntL]):\n",
    "            group += f(cnt)\n",
    "        if not is_order:\n",
    "            group = random.sample(group, len(group))\n",
    "        groups += group\n",
    "        \n",
    "    return groups"
   ]
  },
  {
   "cell_type": "code",
   "execution_count": 49,
   "metadata": {},
   "outputs": [],
   "source": [
    "def get_paper(funcL, cntL, n, is_order=False):\n",
    "    groups = []\n",
    "    for i in list(range(n)):\n",
    "        group =[]\n",
    "        for f, cnt in zip(*[funcL, cntL]):\n",
    "            group += f(cnt)\n",
    "        if isinstance(is_order, list):\n",
    "            orderGroup = is_order\n",
    "            \n",
    "            \n",
    "        elif not is_order:\n",
    "            group = random.sample(group, len(group))\n",
    "        groups += group\n",
    "        \n",
    "    return groups"
   ]
  },
  {
   "cell_type": "code",
   "execution_count": 72,
   "metadata": {},
   "outputs": [],
   "source": [
    "#funcL = [minus_7, minus_6, diff_3, diff_4\n",
    "#        ,addition_carried_x, addition_x\n",
    "#        , sub_back_space_x]"
   ]
  },
  {
   "cell_type": "code",
   "execution_count": 73,
   "metadata": {},
   "outputs": [],
   "source": [
    "funcL = [minus_7, minus_6, diff_3, diff_4]\n",
    "cnts = [25, 25, 25, 25]"
   ]
  },
  {
   "cell_type": "code",
   "execution_count": 74,
   "metadata": {},
   "outputs": [],
   "source": [
    "funcL = [addition_carried_x]\n",
    "cnts = [100]"
   ]
  },
  {
   "cell_type": "code",
   "execution_count": 31,
   "metadata": {},
   "outputs": [],
   "source": [
    "funcL = [sub_x, addition_x,addition_carried_x,sub_back_space_x]\n",
    "cnts = [25, 25, 25, 25]"
   ]
  },
  {
   "cell_type": "code",
   "execution_count": 37,
   "metadata": {},
   "outputs": [],
   "source": [
    "funcL = [sub_x, addition_x,addition_carried_x,sub_back_space_x, sub_x0,addition_x0,mul_x]\n",
    "cnts = [15, 15, 15, 15, 10,10, 20]"
   ]
  },
  {
   "cell_type": "code",
   "execution_count": 96,
   "metadata": {},
   "outputs": [],
   "source": [
    "funcL = [sub_x, addition_x,addition_carried_x,sub_back_space_x,sub_xx, addition_xx, mul_x]\n",
    "cnts = [10, 10,15, 15, 10, 10, 30]"
   ]
  },
  {
   "cell_type": "code",
   "execution_count": 38,
   "metadata": {},
   "outputs": [],
   "source": [
    "funcL = [sub_x, addition_x,sub_xx, addition_xx, sub_100xx, mul_x]\n",
    "cnts = [10, 10, 20, 20, 10,  30]"
   ]
  },
  {
   "cell_type": "code",
   "execution_count": 31,
   "metadata": {},
   "outputs": [],
   "source": [
    "funcL = [sub_x, addition_x,sub_xx, addition_xx, sub_100xx, add_100, mul_x]\n",
    "cnts = [10, 10, 20, 20, 5, 5, 30]\n",
    "orderGroup = [1,1,1,1,2,2,3]"
   ]
  },
  {
   "cell_type": "code",
   "execution_count": 32,
   "metadata": {},
   "outputs": [],
   "source": [
    "current_g = 1\n",
    "r = [cnts[0]]\n",
    "for cnt, g in *zip([cnts, orderGroup]):\n",
    "    if g == current:\n",
    "        r[-1] += cnt\n",
    "    else:\n",
    "        currten = g\n",
    "        r.append(cnt)"
   ]
  },
  {
   "cell_type": "code",
   "execution_count": 33,
   "metadata": {},
   "outputs": [],
   "source": [
    "r"
   ]
  },
  {
   "cell_type": "code",
   "execution_count": null,
   "metadata": {},
   "outputs": [],
   "source": []
  },
  {
   "cell_type": "code",
   "execution_count": 51,
   "metadata": {},
   "outputs": [],
   "source": [
    "# 试卷数\n",
    "n = 5"
   ]
  },
  {
   "cell_type": "code",
   "execution_count": 34,
   "metadata": {},
   "outputs": [],
   "source": [
    "group = get_paper(funcL, cnts, n,True)\n",
    "group"
   ]
  },
  {
   "cell_type": "code",
   "execution_count": 45,
   "metadata": {},
   "outputs": [],
   "source": [
    "group = get_paper(funcL, cnts, n, True)\n",
    "df = pd.DataFrame(group)"
   ]
  },
  {
   "cell_type": "code",
   "execution_count": 46,
   "metadata": {},
   "outputs": [],
   "source": [
    "df.to_excel('output.xlsx',sheet_name='Sheet01', index=False)"
   ]
  },
  {
   "cell_type": "code",
   "execution_count": null,
   "metadata": {},
   "outputs": [],
   "source": []
  },
  {
   "cell_type": "code",
   "execution_count": null,
   "metadata": {},
   "outputs": [],
   "source": []
  },
  {
   "cell_type": "code",
   "execution_count": null,
   "metadata": {},
   "outputs": [],
   "source": []
  },
  {
   "cell_type": "code",
   "execution_count": null,
   "metadata": {},
   "outputs": [],
   "source": []
  },
  {
   "cell_type": "code",
   "execution_count": null,
   "metadata": {},
   "outputs": [],
   "source": []
  },
  {
   "cell_type": "code",
   "execution_count": null,
   "metadata": {},
   "outputs": [],
   "source": []
  }
 ],
 "metadata": {
  "kernelspec": {
   "display_name": "python36-64",
   "language": "python",
   "name": "python36-64"
  },
  "language_info": {
   "codemirror_mode": {
    "name": "ipython",
    "version": 3
   },
   "file_extension": ".py",
   "mimetype": "text/x-python",
   "name": "python",
   "nbconvert_exporter": "python",
   "pygments_lexer": "ipython3",
   "version": "3.6.7"
  },
  "toc": {
   "nav_menu": {},
   "number_sections": true,
   "sideBar": true,
   "skip_h1_title": false,
   "title_cell": "Table of Contents",
   "title_sidebar": "Contents",
   "toc_cell": false,
   "toc_position": {},
   "toc_section_display": true,
   "toc_window_display": false
  }
 },
 "nbformat": 4,
 "nbformat_minor": 2
}
