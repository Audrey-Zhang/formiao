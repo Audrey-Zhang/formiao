{
 "cells": [
  {
   "cell_type": "code",
   "execution_count": 1,
   "metadata": {},
   "outputs": [],
   "source": [
    "import pandas as pd"
   ]
  },
  {
   "cell_type": "code",
   "execution_count": 2,
   "metadata": {},
   "outputs": [],
   "source": [
    "import random"
   ]
  },
  {
   "cell_type": "markdown",
   "metadata": {},
   "source": [
    "## 加减"
   ]
  },
  {
   "cell_type": "markdown",
   "metadata": {},
   "source": [
    "### 退位的xx-x：-9，-8，差1，差2"
   ]
  },
  {
   "cell_type": "code",
   "execution_count": 3,
   "metadata": {},
   "outputs": [],
   "source": [
    "count = 130"
   ]
  },
  {
   "cell_type": "code",
   "execution_count": 4,
   "metadata": {},
   "outputs": [],
   "source": [
    "digit = '123456789'\n",
    "a = [random.choice(digit) for i in list(range(count))]\n",
    "b = [random.choice(digit) for i in list(range(count))]\n",
    "num1 = [a+b for a,b in zip(*[a,b])]"
   ]
  },
  {
   "cell_type": "code",
   "execution_count": 5,
   "metadata": {},
   "outputs": [],
   "source": [
    "group01 = [[n, '-','9'] for n in num1]"
   ]
  },
  {
   "cell_type": "code",
   "execution_count": 6,
   "metadata": {},
   "outputs": [],
   "source": [
    "a = [random.choice(digit) for i in list(range(count))]\n",
    "b = [random.choice(digit) for i in list(range(count))]\n",
    "group01 += [[n, '-','8'] for n in num1]"
   ]
  },
  {
   "cell_type": "code",
   "execution_count": 7,
   "metadata": {},
   "outputs": [],
   "source": [
    "digit = '1234567'\n",
    "bb = [random.choice(digit) for i in list(range(count))]\n",
    "num1 = [a+b for a,b in zip(*[a,bb])]\n",
    "group01 += [[n, '-',str(int(b)+2)] for n,b in zip(*[num1,bb])]"
   ]
  },
  {
   "cell_type": "code",
   "execution_count": 8,
   "metadata": {},
   "outputs": [],
   "source": [
    "digit = '12345678'\n",
    "bb = [random.choice(digit) for i in list(range(count))]\n",
    "num1 = [a+b for a,b in zip(*[a,bb])]\n",
    "group01 += [[n, '-',str(int(b)+1)] for n,b in zip(*[num1,bb])]"
   ]
  },
  {
   "cell_type": "markdown",
   "metadata": {},
   "source": [
    "### 退位的xx-x：-7，-6，差3，差4"
   ]
  },
  {
   "cell_type": "code",
   "execution_count": 9,
   "metadata": {},
   "outputs": [],
   "source": [
    "def minus_7(count):\n",
    "    digit = '123456789'\n",
    "    digit2 = '1234' # using trick: +3\n",
    "    # digit2 = '123456' # using tricks\n",
    "    a = [random.choice(digit) for i in list(range(count))]\n",
    "    b = [random.choice(digit2) for i in list(range(count))]\n",
    "    num1 = [a+b for a,b in zip(*[a,b])]\n",
    "    group = [[n, '-','7'] for n in num1]\n",
    "    return group"
   ]
  },
  {
   "cell_type": "code",
   "execution_count": 10,
   "metadata": {},
   "outputs": [],
   "source": [
    "def minus_6(count):\n",
    "    digit = '123456789'\n",
    "    digit2 = '123'# using trick: +4\n",
    "    # digit2 = '12345' # using tricks\n",
    "    a = [random.choice(digit) for i in list(range(count))]\n",
    "    b = [random.choice(digit2) for i in list(range(count))]\n",
    "    num1 = [a+b for a,b in zip(*[a,b])]\n",
    "    group = [[n, '-','6'] for n in num1]\n",
    "    return group"
   ]
  },
  {
   "cell_type": "code",
   "execution_count": 11,
   "metadata": {},
   "outputs": [],
   "source": [
    "def diff_3(count):\n",
    "    digit = '123456789'\n",
    "    a = [random.choice(digit) for i in list(range(count))]\n",
    "    digit2 = '1234'\n",
    "    bb = [random.choice(digit2) for i in list(range(count))]\n",
    "    num1 = [a+b for a,b in zip(*[a,bb])]\n",
    "    group = [[n, '-',str(int(b)+3)] for n,b in zip(*[num1,bb])]\n",
    "    return group"
   ]
  },
  {
   "cell_type": "code",
   "execution_count": 12,
   "metadata": {},
   "outputs": [],
   "source": [
    "def diff_4(count):\n",
    "    digit = '123456789'\n",
    "    a = [random.choice(digit) for i in list(range(count))]\n",
    "    digit2 = '123'\n",
    "    bb = [random.choice(digit2) for i in list(range(count))]\n",
    "    num1 = [a+b for a,b in zip(*[a,bb])]\n",
    "    group = [[n, '-',str(int(b)+4)] for n,b in zip(*[num1,bb])]\n",
    "    return group"
   ]
  },
  {
   "cell_type": "markdown",
   "metadata": {},
   "source": [
    "### 退位减法xx-x: all"
   ]
  },
  {
   "cell_type": "code",
   "execution_count": 13,
   "metadata": {},
   "outputs": [],
   "source": [
    "def sub_back_space_x(count):\n",
    "    digit = '123456789'\n",
    "    aa = [random.choice('123456789') for i in list(range(count))]\n",
    "    bb,cc = [], []\n",
    "    for i in list(range(count)):\n",
    "        b = random.choice('12345678')\n",
    "        bb += b\n",
    "        cc += random.choice(digit[int(b):])\n",
    "    group = [[a+b, '-', c] for a,b,c in zip(*[aa,bb,cc])]\n",
    "    return group"
   ]
  },
  {
   "cell_type": "markdown",
   "metadata": {},
   "source": [
    "### 减法 xx-x: all"
   ]
  },
  {
   "cell_type": "code",
   "execution_count": 14,
   "metadata": {},
   "outputs": [],
   "source": [
    "def sub_x(count):\n",
    "    digit = '123456789'\n",
    "    aa = [random.choice(digit) for i in list(range(count))]\n",
    "    bb = [random.choice(digit) for i in list(range(count))]\n",
    "    cc = [random.choice(digit) for i in list(range(count))]\n",
    "    group = [[a+b, '-', c] for a,b,c in zip(*[aa,bb,cc])]\n",
    "    return group"
   ]
  },
  {
   "cell_type": "markdown",
   "metadata": {},
   "source": [
    "### 加法xx+x:  all"
   ]
  },
  {
   "cell_type": "code",
   "execution_count": 15,
   "metadata": {},
   "outputs": [],
   "source": [
    "def addition_x(count):\n",
    "    digit = '123456789'\n",
    "    aa = [random.choice(digit) for i in list(range(count))]\n",
    "    bb = [random.choice(digit) for i in list(range(count))]\n",
    "    cc = [random.choice(digit) for i in list(range(count))]\n",
    "    group = [[a+b, '+', c] for a,b,c in zip(*[aa,bb,cc])]\n",
    "    return group"
   ]
  },
  {
   "cell_type": "markdown",
   "metadata": {},
   "source": [
    "### 进位加法xx+x: all"
   ]
  },
  {
   "cell_type": "code",
   "execution_count": 16,
   "metadata": {},
   "outputs": [],
   "source": [
    "def addition_carried_x(count):\n",
    "    digit = '123456789'\n",
    "    aa = [random.choice('123456789') for i in list(range(count))]\n",
    "    bb,cc = [], []\n",
    "    for i in list(range(count)):\n",
    "        b = random.choice('23456789')\n",
    "        bb += b\n",
    "        cc += random.choice(digit[10 - int(b):])\n",
    "    group = [[a+b, '+', c] for a,b,c in zip(*[aa,bb,cc])]\n",
    "    return group"
   ]
  },
  {
   "cell_type": "markdown",
   "metadata": {},
   "source": [
    "### xx+xx addition_xx"
   ]
  },
  {
   "cell_type": "code",
   "execution_count": 17,
   "metadata": {},
   "outputs": [],
   "source": [
    "def addition_xx(count):\n",
    "    digit = '123456789'\n",
    "    aa = [random.choice(digit) for i in list(range(count))]\n",
    "    bb = [random.choice(digit) for i in list(range(count))]\n",
    "    cc = [random.choice(digit) for i in list(range(count))]\n",
    "    dd = [random.choice(digit) for i in list(range(count))]\n",
    "    group = [[a+b, '+', c+d] for a,b,c,d in zip(*[aa,bb,cc,dd])]\n",
    "    return group"
   ]
  },
  {
   "cell_type": "markdown",
   "metadata": {},
   "source": [
    "### xx+x0 addition_x0"
   ]
  },
  {
   "cell_type": "code",
   "execution_count": 18,
   "metadata": {},
   "outputs": [],
   "source": [
    "def addition_x0(count):\n",
    "    group = []\n",
    "    for i in list(range(count)):\n",
    "        aa = random.randint(1,99)\n",
    "        bb = random.randint(1,9)*10\n",
    "        group.append([aa, '+', bb])\n",
    "    return group"
   ]
  },
  {
   "cell_type": "markdown",
   "metadata": {},
   "source": [
    "### xx-x0 sub_x0"
   ]
  },
  {
   "cell_type": "code",
   "execution_count": 19,
   "metadata": {},
   "outputs": [],
   "source": [
    "def sub_x0(count):\n",
    "    group = []\n",
    "    i= 1\n",
    "    while(i<count):\n",
    "        aa = random.randint(1,99)\n",
    "        bb = random.randint(1,9)*10\n",
    "        if aa >= bb:\n",
    "            group.append([aa, '-', bb])\n",
    "            i += 1        \n",
    "    return group"
   ]
  },
  {
   "cell_type": "markdown",
   "metadata": {},
   "source": [
    "### xx-xx非负  sub_xx"
   ]
  },
  {
   "cell_type": "code",
   "execution_count": 20,
   "metadata": {},
   "outputs": [],
   "source": [
    "def sub_xx(count):\n",
    "    group = []\n",
    "    for i in list(range(count)):\n",
    "        aa = random.randint(1,99)\n",
    "        bb = random.randint(1,99)\n",
    "        if aa >= bb:\n",
    "            group.append([aa, '-', bb])\n",
    "        else:\n",
    "            group.append([bb, '-', aa])\n",
    "    return group"
   ]
  },
  {
   "cell_type": "markdown",
   "metadata": {},
   "source": [
    "### 100-xx  sub_100xx"
   ]
  },
  {
   "cell_type": "code",
   "execution_count": 21,
   "metadata": {},
   "outputs": [],
   "source": [
    "def sub_100xx(count):\n",
    "    group = []\n",
    "    for i in list(range(count)):\n",
    "        aa = 100\n",
    "        bb = random.randint(1,99)\n",
    "        if aa >= bb:\n",
    "            group.append([aa, '-', bb])\n",
    "        else:\n",
    "            group.append([bb, '-', aa])\n",
    "    return group"
   ]
  },
  {
   "cell_type": "code",
   "execution_count": null,
   "metadata": {},
   "outputs": [],
   "source": []
  },
  {
   "cell_type": "markdown",
   "metadata": {},
   "source": [
    "## 乘"
   ]
  },
  {
   "cell_type": "code",
   "execution_count": 22,
   "metadata": {},
   "outputs": [],
   "source": [
    "def mul_single_figure(figure):\n",
    "    aa = random.randint(1,12)\n",
    "    return [aa, u'\\xd7', figure]\n",
    "    "
   ]
  },
  {
   "cell_type": "code",
   "execution_count": 23,
   "metadata": {},
   "outputs": [
    {
     "data": {
      "text/plain": [
       "[10, '×', 2]"
      ]
     },
     "execution_count": 23,
     "metadata": {},
     "output_type": "execute_result"
    }
   ],
   "source": [
    "mul_single_figure(2)"
   ]
  },
  {
   "cell_type": "code",
   "execution_count": 22,
   "metadata": {},
   "outputs": [],
   "source": [
    "#  乘  u'\\xd7'  除 u'\\xf7'"
   ]
  },
  {
   "cell_type": "markdown",
   "metadata": {},
   "source": [
    "###   乘法表  mul_x"
   ]
  },
  {
   "cell_type": "code",
   "execution_count": 23,
   "metadata": {},
   "outputs": [],
   "source": [
    "def mul_x(count):\n",
    "    group = []\n",
    "    for i in list(range(count)):\n",
    "        fig = random.randint(2,3)\n",
    "        group.append(mul_single_figure(fig))\n",
    "    return group\n",
    "        "
   ]
  },
  {
   "cell_type": "markdown",
   "metadata": {},
   "source": [
    "## 出题"
   ]
  },
  {
   "cell_type": "code",
   "execution_count": 24,
   "metadata": {},
   "outputs": [],
   "source": [
    "def get_paper(funcL, cntL, n, is_order=False):\n",
    "    groups = []\n",
    "    for i in list(range(n)):\n",
    "        group =[]\n",
    "        for f, cnt in zip(*[funcL, cntL]):\n",
    "            group += f(cnt)\n",
    "        if not is_order:\n",
    "            group = random.sample(group, len(group))\n",
    "        groups += group\n",
    "        \n",
    "    return groups"
   ]
  },
  {
   "cell_type": "code",
   "execution_count": 72,
   "metadata": {},
   "outputs": [],
   "source": [
    "#funcL = [minus_7, minus_6, diff_3, diff_4\n",
    "#        ,addition_carried_x, addition_x\n",
    "#        , sub_back_space_x]"
   ]
  },
  {
   "cell_type": "code",
   "execution_count": 73,
   "metadata": {},
   "outputs": [],
   "source": [
    "funcL = [minus_7, minus_6, diff_3, diff_4]\n",
    "cnts = [25, 25, 25, 25]"
   ]
  },
  {
   "cell_type": "code",
   "execution_count": 74,
   "metadata": {},
   "outputs": [],
   "source": [
    "funcL = [addition_carried_x]\n",
    "cnts = [100]"
   ]
  },
  {
   "cell_type": "code",
   "execution_count": 31,
   "metadata": {},
   "outputs": [],
   "source": [
    "funcL = [sub_x, addition_x,addition_carried_x,sub_back_space_x]\n",
    "cnts = [25, 25, 25, 25]"
   ]
  },
  {
   "cell_type": "code",
   "execution_count": 37,
   "metadata": {},
   "outputs": [],
   "source": [
    "funcL = [sub_x, addition_x,addition_carried_x,sub_back_space_x, sub_x0,addition_x0,mul_x]\n",
    "cnts = [15, 15, 15, 15, 10,10, 20]"
   ]
  },
  {
   "cell_type": "code",
   "execution_count": 96,
   "metadata": {},
   "outputs": [],
   "source": [
    "funcL = [sub_x, addition_x,addition_carried_x,sub_back_space_x,sub_xx, addition_xx, mul_x]\n",
    "cnts = [10, 10,15, 15, 10, 10, 30]"
   ]
  },
  {
   "cell_type": "code",
   "execution_count": 38,
   "metadata": {},
   "outputs": [],
   "source": [
    "# 试卷数\n",
    "n = 5"
   ]
  },
  {
   "cell_type": "code",
   "execution_count": 39,
   "metadata": {},
   "outputs": [
    {
     "data": {
      "text/plain": [
       "[['79', '-', '9'],\n",
       " ['12', '-', '2'],\n",
       " ['44', '-', '4'],\n",
       " ['64', '-', '4'],\n",
       " ['35', '-', '6'],\n",
       " ['14', '-', '2'],\n",
       " ['42', '-', '5'],\n",
       " ['77', '-', '8'],\n",
       " ['79', '-', '2'],\n",
       " ['99', '-', '5'],\n",
       " ['95', '-', '6'],\n",
       " ['33', '-', '1'],\n",
       " ['28', '-', '6'],\n",
       " ['92', '-', '3'],\n",
       " ['67', '-', '1'],\n",
       " ['87', '+', '6'],\n",
       " ['94', '+', '7'],\n",
       " ['97', '+', '7'],\n",
       " ['73', '+', '5'],\n",
       " ['98', '+', '9'],\n",
       " ['72', '+', '2'],\n",
       " ['35', '+', '6'],\n",
       " ['34', '+', '5'],\n",
       " ['84', '+', '4'],\n",
       " ['86', '+', '2'],\n",
       " ['61', '+', '7'],\n",
       " ['22', '+', '4'],\n",
       " ['83', '+', '3'],\n",
       " ['98', '+', '1'],\n",
       " ['78', '+', '3'],\n",
       " ['77', '+', '9'],\n",
       " ['89', '+', '6'],\n",
       " ['13', '+', '9'],\n",
       " ['57', '+', '8'],\n",
       " ['38', '+', '3'],\n",
       " ['63', '+', '8'],\n",
       " ['33', '+', '8'],\n",
       " ['67', '+', '6'],\n",
       " ['89', '+', '9'],\n",
       " ['79', '+', '7'],\n",
       " ['15', '+', '9'],\n",
       " ['53', '+', '8'],\n",
       " ['63', '+', '8'],\n",
       " ['72', '+', '9'],\n",
       " ['23', '+', '8'],\n",
       " ['26', '-', '9'],\n",
       " ['84', '-', '7'],\n",
       " ['42', '-', '3'],\n",
       " ['93', '-', '4'],\n",
       " ['77', '-', '8'],\n",
       " ['63', '-', '9'],\n",
       " ['76', '-', '8'],\n",
       " ['81', '-', '4'],\n",
       " ['93', '-', '5'],\n",
       " ['23', '-', '7'],\n",
       " ['85', '-', '7'],\n",
       " ['37', '-', '9'],\n",
       " ['98', '-', '9'],\n",
       " ['26', '-', '8'],\n",
       " ['54', '-', '6'],\n",
       " [37, '-', 30],\n",
       " [50, '-', 30],\n",
       " [45, '-', 40],\n",
       " [78, '-', 30],\n",
       " [26, '-', 20],\n",
       " [96, '-', 50],\n",
       " [47, '-', 20],\n",
       " [43, '-', 40],\n",
       " [40, '-', 30],\n",
       " [99, '+', 80],\n",
       " [21, '+', 70],\n",
       " [23, '+', 30],\n",
       " [3, '+', 10],\n",
       " [26, '+', 30],\n",
       " [76, '+', 40],\n",
       " [34, '+', 70],\n",
       " [27, '+', 90],\n",
       " [24, '+', 90],\n",
       " [53, '+', 80],\n",
       " [11, '×', 2],\n",
       " [10, '×', 2],\n",
       " [6, '×', 2],\n",
       " [3, '×', 2],\n",
       " [7, '×', 2],\n",
       " [5, '×', 3],\n",
       " [4, '×', 2],\n",
       " [12, '×', 2],\n",
       " [9, '×', 3],\n",
       " [9, '×', 3],\n",
       " [3, '×', 3],\n",
       " [10, '×', 2],\n",
       " [4, '×', 3],\n",
       " [3, '×', 2],\n",
       " [10, '×', 2],\n",
       " [2, '×', 3],\n",
       " [8, '×', 3],\n",
       " [9, '×', 3],\n",
       " [2, '×', 2],\n",
       " [9, '×', 3],\n",
       " ['38', '-', '9'],\n",
       " ['92', '-', '1'],\n",
       " ['72', '-', '9'],\n",
       " ['78', '-', '1'],\n",
       " ['17', '-', '6'],\n",
       " ['38', '-', '9'],\n",
       " ['31', '-', '3'],\n",
       " ['79', '-', '1'],\n",
       " ['77', '-', '4'],\n",
       " ['46', '-', '1'],\n",
       " ['21', '-', '1'],\n",
       " ['54', '-', '9'],\n",
       " ['89', '-', '2'],\n",
       " ['16', '-', '2'],\n",
       " ['95', '-', '2'],\n",
       " ['69', '+', '6'],\n",
       " ['85', '+', '8'],\n",
       " ['61', '+', '6'],\n",
       " ['94', '+', '1'],\n",
       " ['36', '+', '3'],\n",
       " ['71', '+', '4'],\n",
       " ['58', '+', '9'],\n",
       " ['27', '+', '3'],\n",
       " ['45', '+', '4'],\n",
       " ['91', '+', '8'],\n",
       " ['84', '+', '5'],\n",
       " ['79', '+', '5'],\n",
       " ['37', '+', '9'],\n",
       " ['73', '+', '6'],\n",
       " ['32', '+', '8'],\n",
       " ['95', '+', '8'],\n",
       " ['99', '+', '4'],\n",
       " ['86', '+', '7'],\n",
       " ['92', '+', '9'],\n",
       " ['24', '+', '8'],\n",
       " ['98', '+', '9'],\n",
       " ['35', '+', '8'],\n",
       " ['67', '+', '9'],\n",
       " ['92', '+', '9'],\n",
       " ['13', '+', '8'],\n",
       " ['77', '+', '4'],\n",
       " ['55', '+', '9'],\n",
       " ['94', '+', '7'],\n",
       " ['46', '+', '8'],\n",
       " ['62', '+', '9'],\n",
       " ['81', '-', '5'],\n",
       " ['75', '-', '8'],\n",
       " ['52', '-', '3'],\n",
       " ['57', '-', '9'],\n",
       " ['61', '-', '4'],\n",
       " ['51', '-', '6'],\n",
       " ['47', '-', '9'],\n",
       " ['18', '-', '9'],\n",
       " ['61', '-', '6'],\n",
       " ['14', '-', '8'],\n",
       " ['94', '-', '7'],\n",
       " ['47', '-', '8'],\n",
       " ['25', '-', '7'],\n",
       " ['65', '-', '8'],\n",
       " ['33', '-', '5'],\n",
       " [56, '-', 30],\n",
       " [72, '-', 50],\n",
       " [61, '-', 60],\n",
       " [52, '-', 10],\n",
       " [63, '-', 30],\n",
       " [80, '-', 80],\n",
       " [64, '-', 60],\n",
       " [30, '-', 30],\n",
       " [65, '-', 50],\n",
       " [95, '+', 40],\n",
       " [10, '+', 60],\n",
       " [49, '+', 30],\n",
       " [53, '+', 80],\n",
       " [57, '+', 20],\n",
       " [68, '+', 60],\n",
       " [65, '+', 60],\n",
       " [44, '+', 20],\n",
       " [5, '+', 70],\n",
       " [65, '+', 50],\n",
       " [1, '×', 3],\n",
       " [6, '×', 3],\n",
       " [1, '×', 2],\n",
       " [1, '×', 3],\n",
       " [10, '×', 3],\n",
       " [1, '×', 3],\n",
       " [7, '×', 2],\n",
       " [9, '×', 3],\n",
       " [5, '×', 3],\n",
       " [12, '×', 2],\n",
       " [3, '×', 2],\n",
       " [12, '×', 2],\n",
       " [11, '×', 3],\n",
       " [7, '×', 3],\n",
       " [10, '×', 3],\n",
       " [3, '×', 2],\n",
       " [8, '×', 3],\n",
       " [11, '×', 3],\n",
       " [5, '×', 2],\n",
       " [9, '×', 3],\n",
       " ['99', '-', '3'],\n",
       " ['36', '-', '1'],\n",
       " ['15', '-', '7'],\n",
       " ['82', '-', '2'],\n",
       " ['38', '-', '6'],\n",
       " ['95', '-', '9'],\n",
       " ['88', '-', '1'],\n",
       " ['64', '-', '8'],\n",
       " ['75', '-', '4'],\n",
       " ['13', '-', '9'],\n",
       " ['96', '-', '5'],\n",
       " ['34', '-', '5'],\n",
       " ['35', '-', '1'],\n",
       " ['34', '-', '5'],\n",
       " ['67', '-', '1'],\n",
       " ['22', '+', '4'],\n",
       " ['77', '+', '5'],\n",
       " ['55', '+', '4'],\n",
       " ['44', '+', '4'],\n",
       " ['42', '+', '4'],\n",
       " ['48', '+', '6'],\n",
       " ['67', '+', '6'],\n",
       " ['64', '+', '2'],\n",
       " ['25', '+', '5'],\n",
       " ['57', '+', '3'],\n",
       " ['99', '+', '3'],\n",
       " ['72', '+', '6'],\n",
       " ['44', '+', '8'],\n",
       " ['29', '+', '1'],\n",
       " ['75', '+', '3'],\n",
       " ['77', '+', '4'],\n",
       " ['64', '+', '7'],\n",
       " ['27', '+', '5'],\n",
       " ['94', '+', '8'],\n",
       " ['95', '+', '8'],\n",
       " ['54', '+', '9'],\n",
       " ['49', '+', '7'],\n",
       " ['29', '+', '4'],\n",
       " ['63', '+', '8'],\n",
       " ['18', '+', '9'],\n",
       " ['78', '+', '4'],\n",
       " ['12', '+', '9'],\n",
       " ['53', '+', '9'],\n",
       " ['59', '+', '4'],\n",
       " ['85', '+', '9'],\n",
       " ['64', '-', '5'],\n",
       " ['13', '-', '7'],\n",
       " ['96', '-', '7'],\n",
       " ['77', '-', '8'],\n",
       " ['12', '-', '7'],\n",
       " ['56', '-', '8'],\n",
       " ['88', '-', '9'],\n",
       " ['85', '-', '9'],\n",
       " ['86', '-', '9'],\n",
       " ['33', '-', '7'],\n",
       " ['38', '-', '9'],\n",
       " ['17', '-', '8'],\n",
       " ['72', '-', '4'],\n",
       " ['82', '-', '7'],\n",
       " ['27', '-', '8'],\n",
       " [68, '-', 20],\n",
       " [96, '-', 70],\n",
       " [84, '-', 40],\n",
       " [42, '-', 10],\n",
       " [97, '-', 50],\n",
       " [33, '-', 10],\n",
       " [73, '-', 30],\n",
       " [35, '-', 30],\n",
       " [63, '-', 30],\n",
       " [74, '+', 30],\n",
       " [6, '+', 20],\n",
       " [78, '+', 40],\n",
       " [98, '+', 70],\n",
       " [84, '+', 30],\n",
       " [97, '+', 10],\n",
       " [7, '+', 30],\n",
       " [55, '+', 50],\n",
       " [46, '+', 90],\n",
       " [39, '+', 10],\n",
       " [10, '×', 2],\n",
       " [9, '×', 2],\n",
       " [2, '×', 3],\n",
       " [3, '×', 3],\n",
       " [1, '×', 3],\n",
       " [9, '×', 3],\n",
       " [10, '×', 2],\n",
       " [12, '×', 2],\n",
       " [2, '×', 2],\n",
       " [2, '×', 2],\n",
       " [11, '×', 2],\n",
       " [12, '×', 2],\n",
       " [12, '×', 3],\n",
       " [10, '×', 2],\n",
       " [11, '×', 3],\n",
       " [8, '×', 3],\n",
       " [5, '×', 3],\n",
       " [6, '×', 2],\n",
       " [10, '×', 3],\n",
       " [10, '×', 2],\n",
       " ['75', '-', '9'],\n",
       " ['51', '-', '5'],\n",
       " ['11', '-', '6'],\n",
       " ['21', '-', '7'],\n",
       " ['57', '-', '8'],\n",
       " ['47', '-', '3'],\n",
       " ['84', '-', '9'],\n",
       " ['86', '-', '5'],\n",
       " ['98', '-', '4'],\n",
       " ['71', '-', '6'],\n",
       " ['23', '-', '4'],\n",
       " ['57', '-', '8'],\n",
       " ['85', '-', '4'],\n",
       " ['96', '-', '4'],\n",
       " ['76', '-', '3'],\n",
       " ['36', '+', '3'],\n",
       " ['13', '+', '6'],\n",
       " ['84', '+', '2'],\n",
       " ['88', '+', '1'],\n",
       " ['85', '+', '9'],\n",
       " ['97', '+', '1'],\n",
       " ['42', '+', '6'],\n",
       " ['39', '+', '1'],\n",
       " ['62', '+', '2'],\n",
       " ['66', '+', '5'],\n",
       " ['79', '+', '8'],\n",
       " ['86', '+', '3'],\n",
       " ['55', '+', '9'],\n",
       " ['73', '+', '5'],\n",
       " ['89', '+', '6'],\n",
       " ['48', '+', '8'],\n",
       " ['87', '+', '7'],\n",
       " ['17', '+', '8'],\n",
       " ['86', '+', '6'],\n",
       " ['29', '+', '6'],\n",
       " ['98', '+', '8'],\n",
       " ['39', '+', '6'],\n",
       " ['65', '+', '9'],\n",
       " ['22', '+', '9'],\n",
       " ['33', '+', '8'],\n",
       " ['26', '+', '9'],\n",
       " ['65', '+', '8'],\n",
       " ['32', '+', '9'],\n",
       " ['53', '+', '8'],\n",
       " ['42', '+', '9'],\n",
       " ['23', '-', '8'],\n",
       " ['78', '-', '9'],\n",
       " ['52', '-', '6'],\n",
       " ['71', '-', '9'],\n",
       " ['56', '-', '7'],\n",
       " ['94', '-', '7'],\n",
       " ['41', '-', '4'],\n",
       " ['84', '-', '7'],\n",
       " ['97', '-', '9'],\n",
       " ['27', '-', '9'],\n",
       " ['77', '-', '9'],\n",
       " ['48', '-', '9'],\n",
       " ['84', '-', '6'],\n",
       " ['71', '-', '5'],\n",
       " ['27', '-', '9'],\n",
       " [76, '-', 30],\n",
       " [88, '-', 10],\n",
       " [89, '-', 60],\n",
       " [45, '-', 40],\n",
       " [82, '-', 30],\n",
       " [87, '-', 70],\n",
       " [66, '-', 10],\n",
       " [47, '-', 20],\n",
       " [92, '-', 10],\n",
       " [47, '+', 70],\n",
       " [29, '+', 70],\n",
       " [7, '+', 10],\n",
       " [27, '+', 60],\n",
       " [84, '+', 10],\n",
       " [24, '+', 80],\n",
       " [84, '+', 40],\n",
       " [98, '+', 80],\n",
       " [67, '+', 20],\n",
       " [60, '+', 60],\n",
       " [12, '×', 3],\n",
       " [6, '×', 2],\n",
       " [4, '×', 3],\n",
       " [3, '×', 2],\n",
       " [10, '×', 2],\n",
       " [11, '×', 3],\n",
       " [9, '×', 3],\n",
       " [10, '×', 2],\n",
       " [7, '×', 2],\n",
       " [11, '×', 3],\n",
       " [10, '×', 3],\n",
       " [5, '×', 3],\n",
       " [12, '×', 2],\n",
       " [7, '×', 2],\n",
       " [3, '×', 2],\n",
       " [11, '×', 2],\n",
       " [9, '×', 3],\n",
       " [2, '×', 2],\n",
       " [1, '×', 3],\n",
       " [5, '×', 3],\n",
       " ['96', '-', '9'],\n",
       " ['62', '-', '9'],\n",
       " ['19', '-', '9'],\n",
       " ['35', '-', '7'],\n",
       " ['69', '-', '8'],\n",
       " ['99', '-', '1'],\n",
       " ['61', '-', '1'],\n",
       " ['84', '-', '3'],\n",
       " ['46', '-', '2'],\n",
       " ['69', '-', '1'],\n",
       " ['88', '-', '7'],\n",
       " ['83', '-', '8'],\n",
       " ['29', '-', '2'],\n",
       " ['15', '-', '7'],\n",
       " ['95', '-', '8'],\n",
       " ['91', '+', '4'],\n",
       " ['93', '+', '4'],\n",
       " ['41', '+', '9'],\n",
       " ['54', '+', '8'],\n",
       " ['98', '+', '6'],\n",
       " ['64', '+', '6'],\n",
       " ['88', '+', '7'],\n",
       " ['86', '+', '9'],\n",
       " ['52', '+', '3'],\n",
       " ['98', '+', '5'],\n",
       " ['42', '+', '8'],\n",
       " ['33', '+', '2'],\n",
       " ['62', '+', '9'],\n",
       " ['69', '+', '8'],\n",
       " ['65', '+', '1'],\n",
       " ['25', '+', '7'],\n",
       " ['79', '+', '3'],\n",
       " ['49', '+', '4'],\n",
       " ['62', '+', '9'],\n",
       " ['37', '+', '7'],\n",
       " ['23', '+', '9'],\n",
       " ['97', '+', '4'],\n",
       " ['33', '+', '9'],\n",
       " ['96', '+', '5'],\n",
       " ['88', '+', '3'],\n",
       " ['27', '+', '6'],\n",
       " ['75', '+', '6'],\n",
       " ['64', '+', '7'],\n",
       " ['36', '+', '7'],\n",
       " ['44', '+', '8'],\n",
       " ['44', '-', '5'],\n",
       " ['55', '-', '6'],\n",
       " ['73', '-', '8'],\n",
       " ['56', '-', '9'],\n",
       " ['24', '-', '9'],\n",
       " ['71', '-', '4'],\n",
       " ['47', '-', '9'],\n",
       " ['87', '-', '9'],\n",
       " ['76', '-', '7'],\n",
       " ['52', '-', '3'],\n",
       " ['16', '-', '7'],\n",
       " ['53', '-', '6'],\n",
       " ['14', '-', '5'],\n",
       " ['56', '-', '9'],\n",
       " ['21', '-', '8'],\n",
       " [80, '-', 60],\n",
       " [85, '-', 80],\n",
       " [87, '-', 60],\n",
       " [61, '-', 40],\n",
       " [46, '-', 30],\n",
       " [44, '-', 20],\n",
       " [94, '-', 10],\n",
       " [90, '-', 10],\n",
       " [94, '-', 30],\n",
       " [36, '+', 90],\n",
       " [63, '+', 30],\n",
       " [67, '+', 40],\n",
       " [13, '+', 40],\n",
       " [32, '+', 50],\n",
       " [67, '+', 40],\n",
       " [21, '+', 20],\n",
       " [8, '+', 10],\n",
       " [64, '+', 30],\n",
       " [89, '+', 80],\n",
       " [10, '×', 3],\n",
       " [11, '×', 3],\n",
       " [12, '×', 3],\n",
       " [9, '×', 2],\n",
       " [7, '×', 2],\n",
       " [1, '×', 2],\n",
       " [11, '×', 2],\n",
       " [12, '×', 2],\n",
       " [7, '×', 2],\n",
       " [11, '×', 2],\n",
       " [5, '×', 2],\n",
       " [3, '×', 3],\n",
       " [10, '×', 3],\n",
       " [12, '×', 3],\n",
       " [8, '×', 2],\n",
       " [4, '×', 2],\n",
       " [11, '×', 2],\n",
       " [1, '×', 3],\n",
       " [11, '×', 2],\n",
       " [11, '×', 3]]"
      ]
     },
     "execution_count": 39,
     "metadata": {},
     "output_type": "execute_result"
    }
   ],
   "source": [
    "group = get_paper(funcL, cnts, n,True)\n",
    "group"
   ]
  },
  {
   "cell_type": "code",
   "execution_count": 40,
   "metadata": {},
   "outputs": [],
   "source": [
    "group = get_paper(funcL, cnts, n, True)\n",
    "df = pd.DataFrame(group)"
   ]
  },
  {
   "cell_type": "code",
   "execution_count": 41,
   "metadata": {},
   "outputs": [],
   "source": [
    "df.to_excel('output.xlsx',sheet_name='Sheet01', index=False)"
   ]
  },
  {
   "cell_type": "code",
   "execution_count": null,
   "metadata": {},
   "outputs": [],
   "source": []
  },
  {
   "cell_type": "code",
   "execution_count": null,
   "metadata": {},
   "outputs": [],
   "source": []
  },
  {
   "cell_type": "code",
   "execution_count": null,
   "metadata": {},
   "outputs": [],
   "source": []
  },
  {
   "cell_type": "code",
   "execution_count": null,
   "metadata": {},
   "outputs": [],
   "source": []
  },
  {
   "cell_type": "code",
   "execution_count": null,
   "metadata": {},
   "outputs": [],
   "source": []
  },
  {
   "cell_type": "code",
   "execution_count": null,
   "metadata": {},
   "outputs": [],
   "source": []
  }
 ],
 "metadata": {
  "kernelspec": {
   "display_name": "python36",
   "language": "python",
   "name": "python36"
  },
  "language_info": {
   "codemirror_mode": {
    "name": "ipython",
    "version": 3
   },
   "file_extension": ".py",
   "mimetype": "text/x-python",
   "name": "python",
   "nbconvert_exporter": "python",
   "pygments_lexer": "ipython3",
   "version": "3.6.4"
  },
  "toc": {
   "nav_menu": {},
   "number_sections": true,
   "sideBar": true,
   "skip_h1_title": false,
   "title_cell": "Table of Contents",
   "title_sidebar": "Contents",
   "toc_cell": false,
   "toc_position": {},
   "toc_section_display": true,
   "toc_window_display": false
  }
 },
 "nbformat": 4,
 "nbformat_minor": 2
}
