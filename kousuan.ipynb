{
 "cells": [
  {
   "cell_type": "code",
   "execution_count": 46,
   "metadata": {},
   "outputs": [],
   "source": [
    "import pandas as pd"
   ]
  },
  {
   "cell_type": "code",
   "execution_count": 47,
   "metadata": {},
   "outputs": [],
   "source": [
    "import random"
   ]
  },
  {
   "cell_type": "markdown",
   "metadata": {},
   "source": [
    "## 加减"
   ]
  },
  {
   "cell_type": "markdown",
   "metadata": {},
   "source": [
    "### 退位的xx-x：-9，-8，差1，差2"
   ]
  },
  {
   "cell_type": "code",
   "execution_count": 48,
   "metadata": {},
   "outputs": [],
   "source": [
    "count = 130"
   ]
  },
  {
   "cell_type": "code",
   "execution_count": 49,
   "metadata": {},
   "outputs": [],
   "source": [
    "digit = '123456789'\n",
    "a = [random.choice(digit) for i in list(range(count))]\n",
    "b = [random.choice(digit) for i in list(range(count))]\n",
    "num1 = [a+b for a,b in zip(*[a,b])]"
   ]
  },
  {
   "cell_type": "code",
   "execution_count": 50,
   "metadata": {},
   "outputs": [],
   "source": [
    "group01 = [[n, '-','9'] for n in num1]"
   ]
  },
  {
   "cell_type": "code",
   "execution_count": 51,
   "metadata": {},
   "outputs": [],
   "source": [
    "a = [random.choice(digit) for i in list(range(count))]\n",
    "b = [random.choice(digit) for i in list(range(count))]\n",
    "group01 += [[n, '-','8'] for n in num1]"
   ]
  },
  {
   "cell_type": "code",
   "execution_count": 52,
   "metadata": {},
   "outputs": [],
   "source": [
    "digit = '1234567'\n",
    "bb = [random.choice(digit) for i in list(range(count))]\n",
    "num1 = [a+b for a,b in zip(*[a,bb])]\n",
    "group01 += [[n, '-',str(int(b)+2)] for n,b in zip(*[num1,bb])]"
   ]
  },
  {
   "cell_type": "code",
   "execution_count": 53,
   "metadata": {},
   "outputs": [],
   "source": [
    "digit = '12345678'\n",
    "bb = [random.choice(digit) for i in list(range(count))]\n",
    "num1 = [a+b for a,b in zip(*[a,bb])]\n",
    "group01 += [[n, '-',str(int(b)+1)] for n,b in zip(*[num1,bb])]"
   ]
  },
  {
   "cell_type": "markdown",
   "metadata": {},
   "source": [
    "### 退位的xx-x：-7，-6，差3，差4"
   ]
  },
  {
   "cell_type": "code",
   "execution_count": 54,
   "metadata": {},
   "outputs": [],
   "source": [
    "def minus_7(count):\n",
    "    digit = '123456789'\n",
    "    digit2 = '1234' # using trick: +3\n",
    "    # digit2 = '123456' # using tricks\n",
    "    a = [random.choice(digit) for i in list(range(count))]\n",
    "    b = [random.choice(digit2) for i in list(range(count))]\n",
    "    num1 = [a+b for a,b in zip(*[a,b])]\n",
    "    group = [[n, '-','7'] for n in num1]\n",
    "    return group"
   ]
  },
  {
   "cell_type": "code",
   "execution_count": 55,
   "metadata": {},
   "outputs": [],
   "source": [
    "def minus_6(count):\n",
    "    digit = '123456789'\n",
    "    digit2 = '123'# using trick: +4\n",
    "    # digit2 = '12345' # using tricks\n",
    "    a = [random.choice(digit) for i in list(range(count))]\n",
    "    b = [random.choice(digit2) for i in list(range(count))]\n",
    "    num1 = [a+b for a,b in zip(*[a,b])]\n",
    "    group = [[n, '-','6'] for n in num1]\n",
    "    return group"
   ]
  },
  {
   "cell_type": "code",
   "execution_count": 56,
   "metadata": {},
   "outputs": [],
   "source": [
    "def diff_3(count):\n",
    "    digit = '123456789'\n",
    "    a = [random.choice(digit) for i in list(range(count))]\n",
    "    digit2 = '1234'\n",
    "    bb = [random.choice(digit2) for i in list(range(count))]\n",
    "    num1 = [a+b for a,b in zip(*[a,bb])]\n",
    "    group = [[n, '-',str(int(b)+3)] for n,b in zip(*[num1,bb])]\n",
    "    return group"
   ]
  },
  {
   "cell_type": "code",
   "execution_count": 57,
   "metadata": {},
   "outputs": [],
   "source": [
    "def diff_4(count):\n",
    "    digit = '123456789'\n",
    "    a = [random.choice(digit) for i in list(range(count))]\n",
    "    digit2 = '123'\n",
    "    bb = [random.choice(digit2) for i in list(range(count))]\n",
    "    num1 = [a+b for a,b in zip(*[a,bb])]\n",
    "    group = [[n, '-',str(int(b)+4)] for n,b in zip(*[num1,bb])]\n",
    "    return group"
   ]
  },
  {
   "cell_type": "markdown",
   "metadata": {},
   "source": [
    "### 退位减法xx-x: all"
   ]
  },
  {
   "cell_type": "code",
   "execution_count": 58,
   "metadata": {},
   "outputs": [],
   "source": [
    "def sub_back_space_x(count):\n",
    "    digit = '123456789'\n",
    "    aa = [random.choice('123456789') for i in list(range(count))]\n",
    "    bb,cc = [], []\n",
    "    for i in list(range(count)):\n",
    "        b = random.choice('12345678')\n",
    "        bb += b\n",
    "        cc += random.choice(digit[int(b):])\n",
    "    group = [[a+b, '-', c] for a,b,c in zip(*[aa,bb,cc])]\n",
    "    return group"
   ]
  },
  {
   "cell_type": "markdown",
   "metadata": {},
   "source": [
    "### 减法 xx-x: all"
   ]
  },
  {
   "cell_type": "code",
   "execution_count": 59,
   "metadata": {},
   "outputs": [],
   "source": [
    "def sub_x(count):\n",
    "    digit = '123456789'\n",
    "    aa = [random.choice(digit) for i in list(range(count))]\n",
    "    bb = [random.choice(digit) for i in list(range(count))]\n",
    "    cc = [random.choice(digit) for i in list(range(count))]\n",
    "    group = [[a+b, '-', c] for a,b,c in zip(*[aa,bb,cc])]\n",
    "    return group"
   ]
  },
  {
   "cell_type": "markdown",
   "metadata": {},
   "source": [
    "### 加法xx+x:  all"
   ]
  },
  {
   "cell_type": "code",
   "execution_count": 60,
   "metadata": {},
   "outputs": [],
   "source": [
    "def addition_x(count):\n",
    "    digit = '123456789'\n",
    "    aa = [random.choice(digit) for i in list(range(count))]\n",
    "    bb = [random.choice(digit) for i in list(range(count))]\n",
    "    cc = [random.choice(digit) for i in list(range(count))]\n",
    "    group = [[a+b, '+', c] for a,b,c in zip(*[aa,bb,cc])]\n",
    "    return group"
   ]
  },
  {
   "cell_type": "markdown",
   "metadata": {},
   "source": [
    "### 进位加法xx+x: all"
   ]
  },
  {
   "cell_type": "code",
   "execution_count": 61,
   "metadata": {},
   "outputs": [],
   "source": [
    "def addition_carried_x(count):\n",
    "    digit = '123456789'\n",
    "    aa = [random.choice('123456789') for i in list(range(count))]\n",
    "    bb,cc = [], []\n",
    "    for i in list(range(count)):\n",
    "        b = random.choice('23456789')\n",
    "        bb += b\n",
    "        cc += random.choice(digit[10 - int(b):])\n",
    "    group = [[a+b, '+', c] for a,b,c in zip(*[aa,bb,cc])]\n",
    "    return group"
   ]
  },
  {
   "cell_type": "markdown",
   "metadata": {},
   "source": [
    "### xx+xx addition_xx"
   ]
  },
  {
   "cell_type": "code",
   "execution_count": 62,
   "metadata": {},
   "outputs": [],
   "source": [
    "def addition_xx(count):\n",
    "    digit = '123456789'\n",
    "    aa = [random.choice(digit) for i in list(range(count))]\n",
    "    bb = [random.choice(digit) for i in list(range(count))]\n",
    "    cc = [random.choice(digit) for i in list(range(count))]\n",
    "    dd = [random.choice(digit) for i in list(range(count))]\n",
    "    group = [[a+b, '+', c+d] for a,b,c,d in zip(*[aa,bb,cc,dd])]\n",
    "    return group"
   ]
  },
  {
   "cell_type": "markdown",
   "metadata": {},
   "source": [
    "### xx+x0 addition_x0"
   ]
  },
  {
   "cell_type": "code",
   "execution_count": 63,
   "metadata": {},
   "outputs": [],
   "source": [
    "def addition_x0(count):\n",
    "    group = []\n",
    "    for i in list(range(count)):\n",
    "        aa = random.randint(1,99)\n",
    "        bb = random.randint(1,9)*10\n",
    "        group.append([aa, '+', bb])\n",
    "    return group"
   ]
  },
  {
   "cell_type": "markdown",
   "metadata": {},
   "source": [
    "### xx-x0 sub_x0"
   ]
  },
  {
   "cell_type": "code",
   "execution_count": 64,
   "metadata": {},
   "outputs": [],
   "source": [
    "def sub_x0(count):\n",
    "    group = []\n",
    "    i= 1\n",
    "    while(i<count):\n",
    "        aa = random.randint(1,99)\n",
    "        bb = random.randint(1,9)*10\n",
    "        if aa >= bb:\n",
    "            group.append([aa, '-', bb])\n",
    "            i += 1        \n",
    "    return group"
   ]
  },
  {
   "cell_type": "markdown",
   "metadata": {},
   "source": [
    "### xx-xx非负  sub_xx"
   ]
  },
  {
   "cell_type": "code",
   "execution_count": 65,
   "metadata": {},
   "outputs": [],
   "source": [
    "def sub_xx(count):\n",
    "    group = []\n",
    "    for i in list(range(count)):\n",
    "        aa = random.randint(1,99)\n",
    "        bb = random.randint(1,99)\n",
    "        if aa >= bb:\n",
    "            group.append([aa, '-', bb])\n",
    "        else:\n",
    "            group.append([bb, '-', aa])\n",
    "    return group"
   ]
  },
  {
   "cell_type": "markdown",
   "metadata": {},
   "source": [
    "### 100-xx  sub_100xx"
   ]
  },
  {
   "cell_type": "code",
   "execution_count": 66,
   "metadata": {},
   "outputs": [],
   "source": [
    "def sub_100xx(count):\n",
    "    group = []\n",
    "    for i in list(range(count)):\n",
    "        aa = 100\n",
    "        bb = random.randint(1,99)\n",
    "        if aa >= bb:\n",
    "            group.append([aa, '-', bb])\n",
    "        else:\n",
    "            group.append([bb, '-', aa])\n",
    "    return group"
   ]
  },
  {
   "cell_type": "markdown",
   "metadata": {},
   "source": [
    "### xx+xx=100  add_100"
   ]
  },
  {
   "cell_type": "code",
   "execution_count": 67,
   "metadata": {},
   "outputs": [],
   "source": [
    "def add_100(count):\n",
    "    group = []\n",
    "    for i in list(range(count)):\n",
    "        aa = random.randint(11,99)\n",
    "        bb = 100 - aa\n",
    "        group.append([aa, '+', bb])\n",
    "    return group    "
   ]
  },
  {
   "cell_type": "markdown",
   "metadata": {},
   "source": [
    "## 乘"
   ]
  },
  {
   "cell_type": "code",
   "execution_count": 68,
   "metadata": {},
   "outputs": [],
   "source": [
    "def mul_single_figure(figure):\n",
    "    aa = random.randint(1,12)\n",
    "    return [aa, u'\\xd7', figure]\n",
    "    "
   ]
  },
  {
   "cell_type": "code",
   "execution_count": 69,
   "metadata": {},
   "outputs": [
    {
     "data": {
      "text/plain": [
       "[9, '×', 2]"
      ]
     },
     "execution_count": 69,
     "metadata": {},
     "output_type": "execute_result"
    }
   ],
   "source": [
    "mul_single_figure(2)"
   ]
  },
  {
   "cell_type": "code",
   "execution_count": 70,
   "metadata": {},
   "outputs": [],
   "source": [
    "#  乘  u'\\xd7'  除 u'\\xf7'"
   ]
  },
  {
   "cell_type": "markdown",
   "metadata": {},
   "source": [
    "###   乘法表  mul_x"
   ]
  },
  {
   "cell_type": "code",
   "execution_count": 126,
   "metadata": {},
   "outputs": [],
   "source": [
    "def mul_x(count):\n",
    "    group = []\n",
    "    for i in list(range(count)):\n",
    "        digit = \"23456\"\n",
    "        fig = int(random.choice(digit))\n",
    "        group.append(mul_single_figure(fig))\n",
    "    return group\n",
    "        "
   ]
  },
  {
   "cell_type": "code",
   "execution_count": 127,
   "metadata": {},
   "outputs": [],
   "source": [
    "def mul_x02(count):\n",
    "    group = []\n",
    "    for i in list(range(count)):\n",
    "        digit = \"777888\"\n",
    "        fig = int(random.choice(digit))\n",
    "        group.append(mul_single_figure(fig))\n",
    "    return group\n",
    "        "
   ]
  },
  {
   "cell_type": "markdown",
   "metadata": {},
   "source": [
    "## 出题"
   ]
  },
  {
   "cell_type": "code",
   "execution_count": 72,
   "metadata": {},
   "outputs": [],
   "source": [
    "def get_paper_backup(funcL, cntL, n, is_order=False):\n",
    "    groups = []\n",
    "    for i in list(range(n)):\n",
    "        group =[]\n",
    "        for f, cnt in zip(*[funcL, cntL]):\n",
    "            group += f(cnt)\n",
    "        if not is_order:\n",
    "            group = random.sample(group, len(group))\n",
    "        groups += group\n",
    "        \n",
    "    return groups"
   ]
  },
  {
   "cell_type": "code",
   "execution_count": 120,
   "metadata": {},
   "outputs": [],
   "source": [
    "def get_paper(funcL, cntL, n, is_order=False):\n",
    "    groups = []\n",
    "    for i in list(range(n)):\n",
    "        group = []\n",
    "        for f, cnt in zip(*[funcL, cntL]):\n",
    "            group += f(cnt)\n",
    "        if isinstance(is_order, list):\n",
    "            orderGroup = is_order\n",
    "            current_gIdx = 1\n",
    "            r = [0]\n",
    "            for cnt, gIdx in zip(*[cnts, orderGroup]):\n",
    "                if gIdx == current_gIdx:\n",
    "                    r[-1] += cnt\n",
    "                else:\n",
    "                    current_gIdx = gIdx\n",
    "                    cnt += r[-1]\n",
    "                    r.append(cnt)\n",
    "            j = 0\n",
    "            for i in r:\n",
    "                group[j:i] = random.sample(group[j:i], i-j)\n",
    "                j = i\n",
    "            \n",
    "        elif not is_order:\n",
    "            group = random.sample(group, len(group))\n",
    "            \n",
    "        groups += group\n",
    "        \n",
    "    return groups"
   ]
  },
  {
   "cell_type": "code",
   "execution_count": 30,
   "metadata": {},
   "outputs": [],
   "source": [
    "#funcL = [minus_7, minus_6, diff_3, diff_4\n",
    "#        ,addition_carried_x, addition_x\n",
    "#        , sub_back_space_x]"
   ]
  },
  {
   "cell_type": "code",
   "execution_count": 73,
   "metadata": {},
   "outputs": [],
   "source": [
    "funcL = [minus_7, minus_6, diff_3, diff_4]\n",
    "cnts = [25, 25, 25, 25]"
   ]
  },
  {
   "cell_type": "code",
   "execution_count": 74,
   "metadata": {},
   "outputs": [],
   "source": [
    "funcL = [addition_carried_x]\n",
    "cnts = [100]"
   ]
  },
  {
   "cell_type": "code",
   "execution_count": 31,
   "metadata": {},
   "outputs": [],
   "source": [
    "funcL = [sub_x, addition_x,addition_carried_x,sub_back_space_x]\n",
    "cnts = [25, 25, 25, 25]"
   ]
  },
  {
   "cell_type": "code",
   "execution_count": 37,
   "metadata": {},
   "outputs": [],
   "source": [
    "funcL = [sub_x, addition_x,addition_carried_x,sub_back_space_x, sub_x0,addition_x0,mul_x]\n",
    "cnts = [15, 15, 15, 15, 10,10, 20]"
   ]
  },
  {
   "cell_type": "code",
   "execution_count": 96,
   "metadata": {},
   "outputs": [],
   "source": [
    "funcL = [sub_x, addition_x,addition_carried_x,sub_back_space_x,sub_xx, addition_xx, mul_x]\n",
    "cnts = [10, 10,15, 15, 10, 10, 30]"
   ]
  },
  {
   "cell_type": "code",
   "execution_count": 38,
   "metadata": {},
   "outputs": [],
   "source": [
    "funcL = [sub_x, addition_x,sub_xx, addition_xx, sub_100xx, mul_x]\n",
    "cnts = [10, 10, 20, 20, 10,  30]"
   ]
  },
  {
   "cell_type": "code",
   "execution_count": 132,
   "metadata": {},
   "outputs": [],
   "source": [
    "funcL = [sub_xx, addition_xx, sub_100xx, add_100, mul_x, mul_x02]\n",
    "cnts = [15, 20, 3, 2, 30, 30]\n",
    "orderGroup = [1,1,1,1,2,3]"
   ]
  },
  {
   "cell_type": "code",
   "execution_count": 129,
   "metadata": {},
   "outputs": [],
   "source": [
    "# 试卷数\n",
    "n = 5"
   ]
  },
  {
   "cell_type": "code",
   "execution_count": 121,
   "metadata": {},
   "outputs": [
    {
     "data": {
      "text/plain": [
       "[[100, '-', 20],\n",
       " [85, '-', 66],\n",
       " [69, '-', 61],\n",
       " ['89', '+', '61'],\n",
       " [54, '-', 2],\n",
       " [100, '-', 4],\n",
       " ['43', '+', '65'],\n",
       " ['85', '+', '62'],\n",
       " [85, '+', 15],\n",
       " [100, '-', 64],\n",
       " [25, '-', 13],\n",
       " [87, '-', 23],\n",
       " [34, '-', 1],\n",
       " [72, '+', 28],\n",
       " [72, '-', 24],\n",
       " [97, '-', 78],\n",
       " ['68', '+', '16'],\n",
       " [40, '-', 36],\n",
       " [81, '-', 13],\n",
       " ['66', '+', '76'],\n",
       " ['34', '+', '36'],\n",
       " ['43', '+', '13'],\n",
       " ['15', '+', '34'],\n",
       " [48, '+', 52],\n",
       " ['37', '+', '74'],\n",
       " [13, '+', 87],\n",
       " ['26', '+', '54'],\n",
       " [91, '-', 55],\n",
       " [85, '-', 58],\n",
       " [87, '-', 46],\n",
       " [67, '-', 50],\n",
       " [50, '-', 33],\n",
       " ['97', '+', '75'],\n",
       " ['27', '+', '81'],\n",
       " [100, '-', 2],\n",
       " [48, '-', 32],\n",
       " ['13', '+', '39'],\n",
       " [70, '-', 31],\n",
       " [100, '-', 98],\n",
       " ['88', '+', '24'],\n",
       " [73, '-', 31],\n",
       " ['88', '+', '24'],\n",
       " ['81', '+', '36'],\n",
       " [73, '-', 21],\n",
       " ['46', '+', '65'],\n",
       " [31, '-', 24],\n",
       " [89, '+', 11],\n",
       " ['88', '+', '83'],\n",
       " ['86', '+', '44'],\n",
       " ['65', '+', '88'],\n",
       " [5, '×', 3],\n",
       " [11, '×', 3],\n",
       " [6, '×', 2],\n",
       " [7, '×', 3],\n",
       " [6, '×', 5],\n",
       " [8, '×', 5],\n",
       " [3, '×', 3],\n",
       " [7, '×', 5],\n",
       " [4, '×', 2],\n",
       " [11, '×', 3],\n",
       " [3, '×', 5],\n",
       " [6, '×', 3],\n",
       " [4, '×', 3],\n",
       " [12, '×', 3],\n",
       " [6, '×', 2],\n",
       " [4, '×', 2],\n",
       " [8, '×', 2],\n",
       " [10, '×', 2],\n",
       " [8, '×', 2],\n",
       " [1, '×', 2],\n",
       " [2, '×', 6],\n",
       " [9, '×', 4],\n",
       " [6, '×', 4],\n",
       " [8, '×', 4],\n",
       " [10, '×', 4],\n",
       " [4, '×', 4],\n",
       " [3, '×', 4],\n",
       " [11, '×', 6],\n",
       " [2, '×', 4],\n",
       " [8, '×', 4],\n",
       " [10, '×', 4],\n",
       " [11, '×', 4],\n",
       " [1, '×', 6],\n",
       " [7, '×', 6],\n",
       " [1, '×', 6],\n",
       " [5, '×', 6],\n",
       " [9, '×', 4],\n",
       " [11, '×', 4],\n",
       " [10, '×', 4],\n",
       " [5, '×', 4],\n",
       " [8, '×', 4],\n",
       " [6, '×', 4],\n",
       " [10, '×', 6],\n",
       " [10, '×', 4],\n",
       " [3, '×', 4],\n",
       " [7, '×', 4],\n",
       " [8, '×', 4],\n",
       " [4, '×', 4],\n",
       " [2, '×', 4],\n",
       " [8, '×', 6],\n",
       " ['37', '+', '22'],\n",
       " [100, '-', 38],\n",
       " ['41', '+', '28'],\n",
       " ['11', '+', '15'],\n",
       " [95, '-', 13],\n",
       " ['42', '+', '13'],\n",
       " [58, '-', 34],\n",
       " ['36', '+', '28'],\n",
       " [98, '-', 8],\n",
       " [76, '+', 24],\n",
       " [88, '+', 12],\n",
       " [34, '-', 2],\n",
       " ['15', '+', '19'],\n",
       " [73, '-', 71],\n",
       " [11, '+', 89],\n",
       " ['21', '+', '27'],\n",
       " [33, '+', 67],\n",
       " [45, '+', 55],\n",
       " ['99', '+', '56'],\n",
       " ['13', '+', '59'],\n",
       " ['76', '+', '76'],\n",
       " ['31', '+', '75'],\n",
       " [100, '-', 8],\n",
       " [49, '-', 29],\n",
       " [47, '-', 19],\n",
       " ['34', '+', '13'],\n",
       " [82, '-', 40],\n",
       " [79, '-', 58],\n",
       " [85, '-', 42],\n",
       " [100, '-', 72],\n",
       " [57, '-', 32],\n",
       " [98, '-', 97],\n",
       " [80, '-', 45],\n",
       " ['48', '+', '53'],\n",
       " ['35', '+', '86'],\n",
       " [67, '-', 31],\n",
       " [95, '-', 68],\n",
       " [100, '-', 49],\n",
       " ['96', '+', '25'],\n",
       " [100, '-', 65],\n",
       " ['51', '+', '87'],\n",
       " [28, '-', 28],\n",
       " ['96', '+', '77'],\n",
       " ['42', '+', '33'],\n",
       " ['22', '+', '76'],\n",
       " [72, '-', 65],\n",
       " ['58', '+', '14'],\n",
       " [79, '-', 55],\n",
       " [26, '-', 9],\n",
       " [68, '-', 35],\n",
       " [12, '×', 2],\n",
       " [7, '×', 5],\n",
       " [3, '×', 5],\n",
       " [6, '×', 2],\n",
       " [8, '×', 2],\n",
       " [8, '×', 2],\n",
       " [2, '×', 2],\n",
       " [6, '×', 2],\n",
       " [12, '×', 5],\n",
       " [1, '×', 2],\n",
       " [10, '×', 2],\n",
       " [11, '×', 5],\n",
       " [7, '×', 2],\n",
       " [11, '×', 5],\n",
       " [8, '×', 5],\n",
       " [4, '×', 3],\n",
       " [1, '×', 3],\n",
       " [9, '×', 5],\n",
       " [12, '×', 3],\n",
       " [4, '×', 5],\n",
       " [9, '×', 6],\n",
       " [6, '×', 4],\n",
       " [5, '×', 4],\n",
       " [4, '×', 4],\n",
       " [7, '×', 4],\n",
       " [4, '×', 4],\n",
       " [12, '×', 4],\n",
       " [12, '×', 4],\n",
       " [7, '×', 6],\n",
       " [11, '×', 6],\n",
       " [3, '×', 6],\n",
       " [2, '×', 4],\n",
       " [7, '×', 6],\n",
       " [10, '×', 6],\n",
       " [11, '×', 6],\n",
       " [2, '×', 6],\n",
       " [10, '×', 6],\n",
       " [3, '×', 4],\n",
       " [12, '×', 6],\n",
       " [3, '×', 4],\n",
       " [5, '×', 4],\n",
       " [9, '×', 6],\n",
       " [8, '×', 6],\n",
       " [5, '×', 6],\n",
       " [7, '×', 4],\n",
       " [5, '×', 4],\n",
       " [1, '×', 4],\n",
       " [7, '×', 4],\n",
       " [7, '×', 6],\n",
       " [1, '×', 6],\n",
       " ['51', '+', '84'],\n",
       " [58, '-', 6],\n",
       " [52, '-', 18],\n",
       " ['73', '+', '15'],\n",
       " [82, '-', 62],\n",
       " [49, '+', 51],\n",
       " ['24', '+', '84'],\n",
       " ['37', '+', '82'],\n",
       " [100, '-', 24],\n",
       " ['81', '+', '24'],\n",
       " [90, '-', 53],\n",
       " [66, '+', 34],\n",
       " [94, '-', 16],\n",
       " ['97', '+', '51'],\n",
       " ['91', '+', '49'],\n",
       " ['81', '+', '42'],\n",
       " [66, '-', 49],\n",
       " ['31', '+', '67'],\n",
       " [34, '-', 4],\n",
       " [35, '-', 4],\n",
       " [65, '+', 35],\n",
       " ['28', '+', '84'],\n",
       " [55, '-', 49],\n",
       " [100, '-', 83],\n",
       " [49, '-', 29],\n",
       " [95, '+', 5],\n",
       " ['87', '+', '54'],\n",
       " [86, '-', 54],\n",
       " ['98', '+', '23'],\n",
       " [28, '-', 3],\n",
       " ['77', '+', '92'],\n",
       " ['35', '+', '24'],\n",
       " [100, '-', 27],\n",
       " [80, '-', 67],\n",
       " [82, '+', 18],\n",
       " [29, '-', 11],\n",
       " ['62', '+', '39'],\n",
       " ['32', '+', '76'],\n",
       " [100, '-', 19],\n",
       " ['85', '+', '66'],\n",
       " [93, '-', 81],\n",
       " [99, '-', 77],\n",
       " [18, '-', 2],\n",
       " [88, '-', 7],\n",
       " ['76', '+', '53'],\n",
       " [85, '-', 43],\n",
       " [100, '-', 60],\n",
       " ['81', '+', '69'],\n",
       " [65, '-', 37],\n",
       " ['77', '+', '16'],\n",
       " [1, '×', 5],\n",
       " [5, '×', 2],\n",
       " [2, '×', 2],\n",
       " [7, '×', 2],\n",
       " [3, '×', 2],\n",
       " [2, '×', 5],\n",
       " [10, '×', 3],\n",
       " [2, '×', 3],\n",
       " [11, '×', 2],\n",
       " [9, '×', 5],\n",
       " [6, '×', 5],\n",
       " [4, '×', 2],\n",
       " [5, '×', 2],\n",
       " [11, '×', 5],\n",
       " [6, '×', 5],\n",
       " [2, '×', 5],\n",
       " [2, '×', 2],\n",
       " [12, '×', 3],\n",
       " [1, '×', 3],\n",
       " [4, '×', 5],\n",
       " [8, '×', 4],\n",
       " [2, '×', 6],\n",
       " [12, '×', 6],\n",
       " [4, '×', 6],\n",
       " [1, '×', 6],\n",
       " [8, '×', 6],\n",
       " [2, '×', 6],\n",
       " [9, '×', 6],\n",
       " [4, '×', 6],\n",
       " [9, '×', 4],\n",
       " [10, '×', 6],\n",
       " [2, '×', 4],\n",
       " [8, '×', 6],\n",
       " [9, '×', 4],\n",
       " [5, '×', 6],\n",
       " [12, '×', 4],\n",
       " [2, '×', 4],\n",
       " [5, '×', 4],\n",
       " [4, '×', 6],\n",
       " [6, '×', 6],\n",
       " [12, '×', 4],\n",
       " [2, '×', 4],\n",
       " [1, '×', 6],\n",
       " [11, '×', 6],\n",
       " [3, '×', 4],\n",
       " [11, '×', 6],\n",
       " [7, '×', 4],\n",
       " [9, '×', 4],\n",
       " [2, '×', 4],\n",
       " [4, '×', 6],\n",
       " [80, '+', 20],\n",
       " [100, '-', 40],\n",
       " ['38', '+', '56'],\n",
       " ['15', '+', '73'],\n",
       " [73, '-', 49],\n",
       " [89, '-', 66],\n",
       " ['98', '+', '27'],\n",
       " [84, '-', 83],\n",
       " [98, '-', 43],\n",
       " ['37', '+', '78'],\n",
       " [78, '-', 50],\n",
       " [63, '-', 25],\n",
       " ['72', '+', '78'],\n",
       " ['16', '+', '45'],\n",
       " ['87', '+', '38'],\n",
       " ['62', '+', '93'],\n",
       " [88, '-', 51],\n",
       " [54, '-', 16],\n",
       " ['56', '+', '62'],\n",
       " [42, '-', 5],\n",
       " ['89', '+', '94'],\n",
       " [56, '-', 22],\n",
       " ['18', '+', '25'],\n",
       " [71, '-', 26],\n",
       " ['88', '+', '63'],\n",
       " [79, '-', 76],\n",
       " [34, '+', 66],\n",
       " ['58', '+', '72'],\n",
       " [54, '-', 36],\n",
       " [100, '-', 48],\n",
       " ['12', '+', '64'],\n",
       " [80, '-', 27],\n",
       " [100, '-', 15],\n",
       " [100, '-', 42],\n",
       " [41, '-', 23],\n",
       " [41, '+', 59],\n",
       " [22, '-', 4],\n",
       " ['95', '+', '92'],\n",
       " ['99', '+', '49'],\n",
       " ['17', '+', '44'],\n",
       " [87, '+', 13],\n",
       " ['96', '+', '18'],\n",
       " ['66', '+', '43'],\n",
       " [49, '-', 5],\n",
       " ['21', '+', '36'],\n",
       " [100, '-', 32],\n",
       " [92, '-', 40],\n",
       " [54, '-', 10],\n",
       " [55, '+', 45],\n",
       " [70, '-', 24],\n",
       " [11, '×', 3],\n",
       " [3, '×', 3],\n",
       " [3, '×', 5],\n",
       " [12, '×', 2],\n",
       " [1, '×', 3],\n",
       " [8, '×', 2],\n",
       " [3, '×', 2],\n",
       " [7, '×', 5],\n",
       " [9, '×', 2],\n",
       " [9, '×', 5],\n",
       " [10, '×', 2],\n",
       " [10, '×', 2],\n",
       " [4, '×', 5],\n",
       " [10, '×', 5],\n",
       " [8, '×', 3],\n",
       " [1, '×', 5],\n",
       " [12, '×', 3],\n",
       " [1, '×', 2],\n",
       " [1, '×', 3],\n",
       " [9, '×', 3],\n",
       " [4, '×', 4],\n",
       " [5, '×', 4],\n",
       " [11, '×', 4],\n",
       " [11, '×', 6],\n",
       " [10, '×', 6],\n",
       " [8, '×', 6],\n",
       " [7, '×', 4],\n",
       " [12, '×', 6],\n",
       " [4, '×', 4],\n",
       " [4, '×', 4],\n",
       " [6, '×', 4],\n",
       " [1, '×', 4],\n",
       " [5, '×', 4],\n",
       " [2, '×', 4],\n",
       " [5, '×', 4],\n",
       " [1, '×', 4],\n",
       " [9, '×', 4],\n",
       " [5, '×', 4],\n",
       " [8, '×', 6],\n",
       " [3, '×', 4],\n",
       " [4, '×', 6],\n",
       " [12, '×', 4],\n",
       " [8, '×', 6],\n",
       " [12, '×', 6],\n",
       " [6, '×', 6],\n",
       " [4, '×', 4],\n",
       " [11, '×', 6],\n",
       " [11, '×', 6],\n",
       " [2, '×', 6],\n",
       " [9, '×', 6],\n",
       " ['66', '+', '77'],\n",
       " [82, '-', 2],\n",
       " ['98', '+', '93'],\n",
       " [100, '-', 97],\n",
       " ['89', '+', '72'],\n",
       " [11, '+', 89],\n",
       " [33, '-', 20],\n",
       " [89, '-', 24],\n",
       " [87, '-', 23],\n",
       " [50, '-', 36],\n",
       " [49, '-', 26],\n",
       " ['93', '+', '98'],\n",
       " [88, '-', 37],\n",
       " ['27', '+', '27'],\n",
       " [83, '-', 74],\n",
       " ['32', '+', '18'],\n",
       " [82, '-', 29],\n",
       " ['94', '+', '27'],\n",
       " ['83', '+', '82'],\n",
       " ['16', '+', '51'],\n",
       " [100, '-', 49],\n",
       " [70, '+', 30],\n",
       " [48, '-', 24],\n",
       " [91, '-', 77],\n",
       " [88, '-', 21],\n",
       " [37, '+', 63],\n",
       " [100, '-', 72],\n",
       " ['39', '+', '22'],\n",
       " [86, '-', 38],\n",
       " ['32', '+', '62'],\n",
       " ['25', '+', '93'],\n",
       " [100, '-', 66],\n",
       " [99, '-', 96],\n",
       " [22, '+', 78],\n",
       " ['65', '+', '29'],\n",
       " ['26', '+', '46'],\n",
       " [100, '-', 80],\n",
       " [54, '-', 16],\n",
       " ['94', '+', '16'],\n",
       " [92, '-', 81],\n",
       " ['13', '+', '89'],\n",
       " ['13', '+', '92'],\n",
       " [51, '-', 12],\n",
       " ['96', '+', '22'],\n",
       " [87, '-', 52],\n",
       " ['92', '+', '83'],\n",
       " ['88', '+', '52'],\n",
       " [32, '-', 29],\n",
       " [55, '-', 12],\n",
       " [38, '+', 62],\n",
       " [4, '×', 5],\n",
       " [9, '×', 5],\n",
       " [10, '×', 5],\n",
       " [1, '×', 5],\n",
       " [2, '×', 5],\n",
       " [8, '×', 2],\n",
       " [10, '×', 5],\n",
       " [11, '×', 3],\n",
       " [11, '×', 5],\n",
       " [12, '×', 2],\n",
       " [8, '×', 3],\n",
       " [7, '×', 5],\n",
       " [4, '×', 3],\n",
       " [9, '×', 2],\n",
       " [12, '×', 3],\n",
       " [3, '×', 3],\n",
       " [2, '×', 5],\n",
       " [4, '×', 3],\n",
       " [1, '×', 3],\n",
       " [1, '×', 3],\n",
       " [9, '×', 4],\n",
       " [2, '×', 4],\n",
       " [3, '×', 4],\n",
       " [6, '×', 6],\n",
       " [11, '×', 6],\n",
       " [8, '×', 6],\n",
       " [7, '×', 4],\n",
       " [1, '×', 6],\n",
       " [8, '×', 6],\n",
       " [6, '×', 4],\n",
       " [6, '×', 4],\n",
       " [4, '×', 4],\n",
       " [9, '×', 4],\n",
       " [1, '×', 6],\n",
       " [6, '×', 4],\n",
       " [11, '×', 4],\n",
       " [5, '×', 6],\n",
       " [12, '×', 4],\n",
       " [4, '×', 4],\n",
       " [10, '×', 6],\n",
       " [3, '×', 4],\n",
       " [7, '×', 6],\n",
       " [9, '×', 4],\n",
       " [9, '×', 6],\n",
       " [8, '×', 6],\n",
       " [6, '×', 6],\n",
       " [1, '×', 4],\n",
       " [5, '×', 4],\n",
       " [12, '×', 4],\n",
       " [12, '×', 6]]"
      ]
     },
     "execution_count": 121,
     "metadata": {},
     "output_type": "execute_result"
    }
   ],
   "source": [
    "group = get_paper(funcL, cnts, n, orderGroup)\n",
    "group"
   ]
  },
  {
   "cell_type": "code",
   "execution_count": 135,
   "metadata": {},
   "outputs": [],
   "source": [
    "group = get_paper(funcL, cnts, n, orderGroup)\n",
    "df = pd.DataFrame(group)"
   ]
  },
  {
   "cell_type": "code",
   "execution_count": 136,
   "metadata": {},
   "outputs": [],
   "source": [
    "df.to_excel('output.xlsx',sheet_name='Sheet01', index=False)"
   ]
  },
  {
   "cell_type": "code",
   "execution_count": null,
   "metadata": {},
   "outputs": [],
   "source": []
  },
  {
   "cell_type": "code",
   "execution_count": null,
   "metadata": {},
   "outputs": [],
   "source": []
  },
  {
   "cell_type": "code",
   "execution_count": null,
   "metadata": {},
   "outputs": [],
   "source": []
  },
  {
   "cell_type": "code",
   "execution_count": null,
   "metadata": {},
   "outputs": [],
   "source": []
  },
  {
   "cell_type": "code",
   "execution_count": null,
   "metadata": {},
   "outputs": [],
   "source": []
  },
  {
   "cell_type": "code",
   "execution_count": null,
   "metadata": {},
   "outputs": [],
   "source": []
  }
 ],
 "metadata": {
  "kernelspec": {
   "display_name": "python36-64",
   "language": "python",
   "name": "python36-64"
  },
  "language_info": {
   "codemirror_mode": {
    "name": "ipython",
    "version": 3
   },
   "file_extension": ".py",
   "mimetype": "text/x-python",
   "name": "python",
   "nbconvert_exporter": "python",
   "pygments_lexer": "ipython3",
   "version": "3.6.7"
  },
  "toc": {
   "nav_menu": {},
   "number_sections": true,
   "sideBar": true,
   "skip_h1_title": false,
   "title_cell": "Table of Contents",
   "title_sidebar": "Contents",
   "toc_cell": false,
   "toc_position": {},
   "toc_section_display": true,
   "toc_window_display": false
  }
 },
 "nbformat": 4,
 "nbformat_minor": 2
}
